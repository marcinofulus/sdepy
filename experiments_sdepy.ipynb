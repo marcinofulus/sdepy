{
 "cells": [
  {
   "cell_type": "code",
   "execution_count": 1,
   "metadata": {
    "collapsed": true
   },
   "outputs": [],
   "source": [
    "import pycuda.driver as cuda\n",
    "import pycuda.autoinit\n",
    "from pycuda.compiler import SourceModule\n",
    "import numpy as np "
   ]
  },
  {
   "cell_type": "code",
   "execution_count": null,
   "metadata": {
    "collapsed": false
   },
   "outputs": [],
   "source": []
  },
  {
   "cell_type": "code",
   "execution_count": 10,
   "metadata": {
    "collapsed": false
   },
   "outputs": [
    {
     "data": {
      "text/plain": [
       "numpy.uint32"
      ]
     },
     "execution_count": 10,
     "metadata": {},
     "output_type": "execute_result"
    }
   ],
   "source": [
    "type(np.uint32(1))"
   ]
  },
  {
   "cell_type": "code",
   "execution_count": 30,
   "metadata": {
    "collapsed": false
   },
   "outputs": [],
   "source": [
    "a = np.array([1])\n",
    "a = np.float32(1)\n",
    "a = np.array(1.11111111111, np.float32)\n",
    "a = a.astype(np.float32)"
   ]
  },
  {
   "cell_type": "code",
   "execution_count": 31,
   "metadata": {
    "collapsed": true
   },
   "outputs": [],
   "source": [
    "a_gpu = cuda.mem_alloc(a.nbytes)"
   ]
  },
  {
   "cell_type": "code",
   "execution_count": 32,
   "metadata": {
    "collapsed": false
   },
   "outputs": [],
   "source": [
    "cuda.memcpy_htod(a_gpu, a)"
   ]
  },
  {
   "cell_type": "code",
   "execution_count": 20,
   "metadata": {
    "collapsed": false
   },
   "outputs": [
    {
     "data": {
      "text/plain": [
       "numpy.float32"
      ]
     },
     "execution_count": 20,
     "metadata": {},
     "output_type": "execute_result"
    }
   ],
   "source": [
    "a = np.float32(1)\n",
    "type(a)"
   ]
  },
  {
   "cell_type": "code",
   "execution_count": 21,
   "metadata": {
    "collapsed": false
   },
   "outputs": [
    {
     "data": {
      "text/plain": [
       "numpy.ndarray"
      ]
     },
     "execution_count": 21,
     "metadata": {},
     "output_type": "execute_result"
    }
   ],
   "source": [
    "a = np.array([1]).astype(np.float32)\n",
    "type(a)"
   ]
  },
  {
   "cell_type": "code",
   "execution_count": 23,
   "metadata": {
    "collapsed": false
   },
   "outputs": [
    {
     "data": {
      "text/plain": [
       "(1,)"
      ]
     },
     "execution_count": 23,
     "metadata": {},
     "output_type": "execute_result"
    }
   ],
   "source": [
    "a.shape"
   ]
  },
  {
   "cell_type": "code",
   "execution_count": 26,
   "metadata": {
    "collapsed": false
   },
   "outputs": [],
   "source": [
    "foo = np.array(1.11111111111, np.float64)"
   ]
  },
  {
   "cell_type": "code",
   "execution_count": 27,
   "metadata": {
    "collapsed": false
   },
   "outputs": [
    {
     "data": {
      "text/plain": [
       "()"
      ]
     },
     "execution_count": 27,
     "metadata": {},
     "output_type": "execute_result"
    }
   ],
   "source": [
    "foo.shape"
   ]
  },
  {
   "cell_type": "code",
   "execution_count": 28,
   "metadata": {
    "collapsed": false
   },
   "outputs": [
    {
     "data": {
      "text/plain": [
       "numpy.ndarray"
      ]
     },
     "execution_count": 28,
     "metadata": {},
     "output_type": "execute_result"
    }
   ],
   "source": [
    "type(foo)"
   ]
  },
  {
   "cell_type": "code",
   "execution_count": 29,
   "metadata": {
    "collapsed": false
   },
   "outputs": [
    {
     "data": {
      "text/plain": [
       "array(1.11111111111)"
      ]
     },
     "execution_count": 29,
     "metadata": {},
     "output_type": "execute_result"
    }
   ],
   "source": [
    "foo"
   ]
  },
  {
   "cell_type": "code",
   "execution_count": null,
   "metadata": {
    "collapsed": true
   },
   "outputs": [],
   "source": []
  },
  {
   "cell_type": "markdown",
   "metadata": {
    "collapsed": true
   },
   "source": [
    "## Mako templates"
   ]
  },
  {
   "cell_type": "code",
   "execution_count": 5,
   "metadata": {
    "collapsed": false
   },
   "outputs": [],
   "source": [
    "from mako.lookup import TemplateLookup\n",
    "import pwd,os,sys"
   ]
  },
  {
   "cell_type": "code",
   "execution_count": 6,
   "metadata": {
    "collapsed": false
   },
   "outputs": [],
   "source": [
    "ctx = {}\n",
    "ctx['const_parameters'] = ['a','C']"
   ]
  },
  {
   "cell_type": "code",
   "execution_count": 7,
   "metadata": {
    "collapsed": false
   },
   "outputs": [
    {
     "name": "stdout",
     "output_type": "stream",
     "text": [
      "Overwriting mytemplate.mako\n"
     ]
    }
   ],
   "source": [
    "%%writefile mytemplate.mako\n",
    "\n",
    "%for param in const_parameters:\n",
    "    __constant__ float ${param} = 0.0f;\n",
    "%endfor"
   ]
  },
  {
   "cell_type": "code",
   "execution_count": 8,
   "metadata": {
    "collapsed": false
   },
   "outputs": [],
   "source": [
    "lookup = TemplateLookup(directories=sys.path,module_directory='/tmp/test-module')"
   ]
  },
  {
   "cell_type": "code",
   "execution_count": 9,
   "metadata": {
    "collapsed": false
   },
   "outputs": [],
   "source": [
    "sde_template = lookup.get_template('mytemplate.mako')\n",
    "kernel_source = sde_template.render(**ctx)\n"
   ]
  },
  {
   "cell_type": "code",
   "execution_count": 10,
   "metadata": {
    "collapsed": true
   },
   "outputs": [],
   "source": [
    "with open(\"/tmp/source.c\", 'w') as file:\n",
    "    print >> file, kernel_source"
   ]
  },
  {
   "cell_type": "code",
   "execution_count": 11,
   "metadata": {
    "collapsed": false
   },
   "outputs": [],
   "source": [
    "!indent  -linux -sob -l120 /tmp/source.c"
   ]
  },
  {
   "cell_type": "code",
   "execution_count": null,
   "metadata": {
    "collapsed": false
   },
   "outputs": [],
   "source": [
    "# %load /tmp/source.c\n",
    "\n",
    "__constant__ float a = 0.0f;\n",
    "__constant__ float C = 0.0f;\n"
   ]
  },
  {
   "cell_type": "code",
   "execution_count": 11,
   "metadata": {
    "collapsed": true
   },
   "outputs": [],
   "source": [
    "!indent  -linux -sob -l120 1.cu"
   ]
  },
  {
   "cell_type": "code",
   "execution_count": null,
   "metadata": {
    "collapsed": true
   },
   "outputs": [],
   "source": [
    "# %load 1.cu\n",
    "#ifndef __CU_RNG_H\n",
    "#define __CU_RNG_H\n",
    "\n",
    "#include <float.h>\n",
    "\n",
    "#define PI 3.14159265358979f\n",
    "\n",
    "/*\n",
    " * Return a uniformly distributed random number from the\n",
    " * [0;1] range.\n",
    " */\n",
    "\n",
    "__device__ float rng_kiss32(unsigned int *x, unsigned int *y, unsigned int *z, unsigned int *w)\n",
    "{\n",
    "\t*x = 69069 * *x + 1234567;\t// CONG\n",
    "\t*z = 36969 * (*z & 65535) + (*z >> 16);\t// znew\n",
    "\t*w = 18000 * (*w & 65535) + (*w >> 16);\t// wnew  & 6553?\n",
    "\t*y ^= (*y << 17);\t// SHR3\n",
    "\t*y ^= (*y >> 13);\n",
    "\t*y ^= (*y << 5);\n",
    "\n",
    "\treturn ((((*z << 16) + *w) ^ *x) + *y) * 2.328306e-10f;\t// (MWC ^ CONG) + SHR3\n",
    "}\n",
    "\n",
    "/*\n",
    " * Generate two normal variates given two uniform variates.\n",
    " */\n",
    "__device__ void bm_trans(float &u1, float &u2)\n",
    "{\n",
    "\tfloat r = sqrtf(-2.0f * logf(u1 + FLT_EPSILON));\n",
    "\tfloat phi = 2.0f * PI * u2;\n",
    "\tu1 = r * cosf(phi);\n",
    "\tu2 = r * sinf(phi);\n",
    "}\n",
    "\n",
    "#endif\t\t\t\t/* __CU_RNG_H */\n",
    "\n",
    "// Constants\n",
    "__constant__ float gamma_ = 0.0f;\n",
    "__constant__ float ns = 0.0f;\n",
    "__constant__ float force = 0.0f;\n",
    "__constant__ float d0 = 0.0f;\n",
    "__constant__ float psd = 0.0f;\n",
    "\n",
    "__constant__ float dt = 0.0f;\n",
    "__constant__ unsigned int samples = 0;\n",
    "\n",
    "// System of differential equations to solve.\n",
    "__device__ inline void RHS(float &dx0, float x0, float &dx1, float x1, float t)\n",
    "{\n",
    "\tdx0 = x1;\n",
    "\tdx1 = -psd * sinf(x0) - gamma_ * x1 + force;\n",
    "}\n",
    "\n",
    "__global__ void AdvanceSim(unsigned int *rng_state, float *cx0, float *cx1, float ct)\n",
    "{\n",
    "\tint idx = blockIdx.x * blockDim.x + threadIdx.x;\n",
    "\tint i;\n",
    "\tfloat x0, xt0, x1, xt1, n0, n1, t;\n",
    "\n",
    "\tunsigned int lrng_state[4];\n",
    "\n",
    "\tx0 = cx0[idx];\n",
    "\tx1 = cx1[idx];\n",
    "\n",
    "\tt = ct;\n",
    "\n",
    "\tlrng_state[0] = rng_state[4 * idx + 0];\n",
    "\tlrng_state[1] = rng_state[4 * idx + 1];\n",
    "\tlrng_state[2] = rng_state[4 * idx + 2];\n",
    "\tlrng_state[3] = rng_state[4 * idx + 3];\n",
    "\n",
    "\t// Additional local variables that depend on changing parameters.\n",
    "\n",
    "\tfloat xtt0, xim0;\n",
    "\tfloat xtt1, xim1;\n",
    "\n",
    "\tfor (i = 1; i <= samples; i++) {\n",
    "\t\tif (!(i & 1)) {\n",
    "\t\t\tn0 = n1;\n",
    "\t\t} else {\n",
    "\t\t\tn0 = rng_kiss32(lrng_state + 0, lrng_state + 1, lrng_state + 2, lrng_state + 3);\n",
    "\t\t\tn1 = rng_kiss32(lrng_state + 0, lrng_state + 1, lrng_state + 2, lrng_state + 3);\n",
    "\t\t\tbm_trans(n0, n1);\n",
    "\t\t}\n",
    "\n",
    "\t\tRHS(xt0, x0, xt1, x1, t);\n",
    "\n",
    "\t\txim0 = x0 + xt0 * dt;\n",
    "\t\txim1 = x1 + xt1 * dt + ns * n0;\n",
    "\t\t;\n",
    "\t\tt = ct + i * dt;\n",
    "\n",
    "\t\tRHS(xtt0, xim0, xtt1, xim1, t);\n",
    "\n",
    "\t\tx0 += 0.5f * dt * (xt0 + xtt0);\n",
    "\t\tx1 += 0.5f * dt * (xt1 + xtt1)\n",
    "\t\t    + ns * n0;\n",
    "\t}\n",
    "\n",
    "\tcx0[idx] = x0;\n",
    "\tcx1[idx] = x1;\n",
    "\n",
    "\trng_state[4 * idx + 0] = lrng_state[0];\n",
    "\trng_state[4 * idx + 1] = lrng_state[1];\n",
    "\trng_state[4 * idx + 2] = lrng_state[2];\n",
    "\trng_state[4 * idx + 3] = lrng_state[3];\n",
    "}\n"
   ]
  },
  {
   "cell_type": "code",
   "execution_count": 26,
   "metadata": {
    "collapsed": false
   },
   "outputs": [],
   "source": [
    "import sys\n",
    "sys.path.append(os.getcwd())"
   ]
  },
  {
   "cell_type": "markdown",
   "metadata": {},
   "source": [
    "### Code Generation"
   ]
  },
  {
   "cell_type": "code",
   "execution_count": 12,
   "metadata": {
    "collapsed": false
   },
   "outputs": [],
   "source": [
    "import sde\n",
    "import sympy"
   ]
  },
  {
   "cell_type": "code",
   "execution_count": 13,
   "metadata": {
    "collapsed": false
   },
   "outputs": [
    {
     "data": {
      "text/plain": [
       "<sde.KernelCodePrinter at 0x7f11f55f1310>"
      ]
     },
     "execution_count": 13,
     "metadata": {},
     "output_type": "execute_result"
    }
   ],
   "source": [
    "sde.KernelCodePrinter()"
   ]
  },
  {
   "cell_type": "markdown",
   "metadata": {},
   "source": [
    "`local_vars` przy inicjalizacji jest słownikiem z lambami:"
   ]
  },
  {
   "cell_type": "code",
   "execution_count": 3,
   "metadata": {
    "collapsed": false
   },
   "outputs": [],
   "source": [
    "local_vars = { 'ns': lambda sdei: sympy.sqrt(sdei.S.d0 * sdei.S.dt) }\n",
    "\n",
    "class tst(object):\n",
    "    pass\n",
    "\n",
    "TST=tst()\n",
    "TST.S = sde.S()\n",
    "TST.S.d0 = sympy.Symbol('d0')\n"
   ]
  },
  {
   "cell_type": "markdown",
   "metadata": {},
   "source": [
    "taki `local_vars` jest atrybutem w instancji SDE:"
   ]
  },
  {
   "cell_type": "code",
   "execution_count": 5,
   "metadata": {
    "collapsed": false
   },
   "outputs": [
    {
     "data": {
      "text/plain": [
       "sqrt(d0*dt)"
      ]
     },
     "execution_count": 5,
     "metadata": {},
     "output_type": "execute_result"
    }
   ],
   "source": [
    "local_vars['ns'](TST)"
   ]
  },
  {
   "cell_type": "code",
   "execution_count": 6,
   "metadata": {
    "collapsed": false
   },
   "outputs": [
    {
     "data": {
      "text/plain": [
       "'powf((d0*dt),(1.0L/2.0L))'"
      ]
     },
     "execution_count": 6,
     "metadata": {},
     "output_type": "execute_result"
    }
   ],
   "source": [
    "sde.KernelCodePrinter().doprint(local_vars['ns'](TST))"
   ]
  },
  {
   "cell_type": "code",
   "execution_count": 58,
   "metadata": {
    "collapsed": false
   },
   "outputs": [],
   "source": [
    "from sympy.core import basic"
   ]
  },
  {
   "cell_type": "code",
   "execution_count": 60,
   "metadata": {
    "collapsed": false
   },
   "outputs": [],
   "source": [
    "basic.S?"
   ]
  },
  {
   "cell_type": "code",
   "execution_count": 61,
   "metadata": {
    "collapsed": false
   },
   "outputs": [
    {
     "data": {
      "text/plain": [
       "-1"
      ]
     },
     "execution_count": 61,
     "metadata": {},
     "output_type": "execute_result"
    }
   ],
   "source": [
    "basic.S.NegativeOne"
   ]
  },
  {
   "cell_type": "code",
   "execution_count": 62,
   "metadata": {
    "collapsed": false
   },
   "outputs": [],
   "source": [
    "import sde\n",
    "import sympy\n",
    "import numpy"
   ]
  },
  {
   "cell_type": "code",
   "execution_count": 113,
   "metadata": {
    "collapsed": true
   },
   "outputs": [],
   "source": [
    "params = {'force': 'DC bias current',\n",
    "          'gamma_': 'damping constant',\n",
    "          'psd': 'potential strenght',\n",
    "          'd0': 'noise strength'}\n",
    "\n",
    "local_vars = { 'ns': lambda sdei: sympy.sqrt(sdei.S.d0 * sdei.S.dt * 2.0 * sdei.S.gamma_) }\n",
    "\n",
    "code = \"\"\"\n",
    "    dx0 = x1;\n",
    "    dx1 = -psd * sinf(x0) - gamma_ * x1 + force;\n",
    "\"\"\"\n",
    "\n",
    "noise_map = {1: ['ns']}\n",
    "\n",
    "defaults = {'force':0.5,\n",
    "            'gamma_':0.5,\n",
    "            'psd':1.0,\n",
    "            'd0':0.025,\n",
    "            'spp':1000,\n",
    "            'paths':8192,\n",
    "            'simperiods':10000,\n",
    "            'samples':1000,\n",
    "            'output':'BLEBL',\n",
    "            'precision':'double',\n",
    "           }\n",
    "\n",
    "\n",
    "period_map = {0: sde.PeriodInfo(period=2.0 * numpy.pi, freq=1)}"
   ]
  },
  {
   "cell_type": "code",
   "execution_count": 114,
   "metadata": {
    "collapsed": false
   },
   "outputs": [],
   "source": [
    "sde_ = sde.SDE(code, params, num_vars=2, num_noises=1, noise_map=noise_map, \\\n",
    "               period_map=period_map,local_vars=local_vars,defaults=defaults,\\\n",
    "               args=[\"--force\",\"0.666\"]\n",
    "              )"
   ]
  },
  {
   "cell_type": "code",
   "execution_count": 115,
   "metadata": {
    "collapsed": false
   },
   "outputs": [
    {
     "data": {
      "text/plain": [
       "0.66600000000000004"
      ]
     },
     "execution_count": 115,
     "metadata": {},
     "output_type": "execute_result"
    }
   ],
   "source": [
    "sde_.options.force"
   ]
  },
  {
   "cell_type": "code",
   "execution_count": 116,
   "metadata": {
    "collapsed": false
   },
   "outputs": [
    {
     "data": {
      "text/plain": [
       "'double'"
      ]
     },
     "execution_count": 116,
     "metadata": {},
     "output_type": "execute_result"
    }
   ],
   "source": [
    "sde_.options.precision"
   ]
  },
  {
   "cell_type": "code",
   "execution_count": 117,
   "metadata": {
    "collapsed": false
   },
   "outputs": [
    {
     "data": {
      "text/plain": [
       "{'d0', 'force', 'gamma_', 'psd'}"
      ]
     },
     "execution_count": 117,
     "metadata": {},
     "output_type": "execute_result"
    }
   ],
   "source": [
    "sde_.parser.par_single"
   ]
  },
  {
   "cell_type": "code",
   "execution_count": 123,
   "metadata": {
    "collapsed": false
   },
   "outputs": [
    {
     "data": {
      "text/plain": [
       "{'ns': 1.4142135623731*sqrt(d0*dt*gamma_)}"
      ]
     },
     "execution_count": 123,
     "metadata": {},
     "output_type": "execute_result"
    }
   ],
   "source": [
    "sde_.local_vars"
   ]
  },
  {
   "cell_type": "code",
   "execution_count": 122,
   "metadata": {
    "collapsed": false
   },
   "outputs": [
    {
     "data": {
      "text/plain": [
       "<function __main__.<lambda>>"
      ]
     },
     "execution_count": 122,
     "metadata": {},
     "output_type": "execute_result"
    }
   ],
   "source": [
    "local_vars['ns']"
   ]
  },
  {
   "cell_type": "code",
   "execution_count": 107,
   "metadata": {
    "collapsed": false
   },
   "outputs": [
    {
     "name": "stdout",
     "output_type": "stream",
     "text": [
      "#ifndef __CU_RNG_H\n",
      "#define __CU_RNG_H\n",
      "\n",
      "#include <float.h>\n",
      "\n",
      "#define PI 3.14159265358979f\n",
      "\n",
      "/*\n",
      " * Return a uniformly distributed random number from the\n",
      " * [0;1] range.\n",
      " */\n",
      "\n",
      "\n",
      "__device__ float rng_kiss32(unsigned int *x, unsigned int *y,\n",
      "\t\tunsigned int *z, unsigned int *w)\n",
      "{\n",
      "\t*x = 69069 * *x + 1234567;\t\t// CONG\n",
      "\t*z = 36969 * (*z & 65535) + (*z >> 16);\t// znew\n",
      "\t*w = 18000 * (*w & 65535) + (*w >> 16);\t// wnew  & 6553?\n",
      "\t*y ^= (*y << 17);\t\t\t// SHR3\n",
      "\t*y ^= (*y >> 13);\n",
      "\t*y ^= (*y << 5);\n",
      "\n",
      "\treturn ((((*z << 16) + *w) ^ *x) + *y) * 2.328306e-10f;\t// (MWC ^ CONG) + SHR3\n",
      "}\n",
      "\n",
      "\n",
      "/*\n",
      " * Generate two normal variates given two uniform variates.\n",
      " */\n",
      "__device__ void bm_trans(float& u1, float& u2)\n",
      "{\n",
      "\tfloat r = sqrtf(-2.0f * logf(u1 + FLT_EPSILON));\n",
      "\tfloat phi = 2.0f * PI * u2;\n",
      "\tu1 = r * cosf(phi);\n",
      "\tu2 = r * sinf(phi);\n",
      "}\n",
      "\n",
      "#endif /* __CU_RNG_H */\n",
      "\n",
      "\n",
      "\n",
      "// Constants\n",
      "\t__constant__ float gamma_ = 0.0f;\n",
      "\t__constant__ float force = 0.0f;\n",
      "\t__constant__ float psd = 0.0f;\n",
      "\t__constant__ float d0 = 0.0f;\n",
      "\n",
      "__constant__ float dt = 0.0f;\n",
      "__constant__ unsigned int samples = 0;\n",
      "\n",
      "\n",
      "\n",
      "// System of differential equations to solve.\n",
      "__device__ inline void RHS(\n",
      "\t\tfloat &dx0, float x0,\n",
      "\t\tfloat &dx1, float x1,\n",
      "\t\tfloat t\n",
      ")\n",
      "{\n",
      "\t\n",
      "    dx0 = x1;\n",
      "    dx1 = -psd * sinf(x0) - gamma_ * x1 + force;\n",
      "\n",
      "}\n",
      "\n",
      "\n",
      "\n",
      "\n",
      "\n",
      "\n",
      "\n",
      "\n",
      "\n",
      "__global__ void AdvanceSim(unsigned int *rng_state,\n",
      "\t\tfloat *cx0,\n",
      "\t\tfloat *cx1,\n",
      "\tfloat ct)\n",
      "{\n",
      "\tint idx = blockIdx.x * blockDim.x + threadIdx.x;\n",
      "\tint i;\n",
      "\tfloat\n",
      "\t\tx0, xt0,\n",
      "\t\tx1, xt1,\n",
      "\t\tn0,\n",
      "\t\tn1,\n",
      "\tt;\n",
      "\n",
      "\tunsigned int lrng_state[4];\n",
      "\n",
      "\t\tx0 = cx0[idx];\n",
      "\t\tx1 = cx1[idx];\n",
      "\n",
      "\tt = ct;\n",
      "\n",
      "\t\tlrng_state[0] = rng_state[4 * idx + 0];\n",
      "\t\tlrng_state[1] = rng_state[4 * idx + 1];\n",
      "\t\tlrng_state[2] = rng_state[4 * idx + 2];\n",
      "\t\tlrng_state[3] = rng_state[4 * idx + 3];\n",
      "\n",
      "\t// Additional local variables that depend on changing parameters.\n",
      "\t\t\tfloat ns = 1.4142135623731*powf((d0*dt*gamma_),(1.0L/2.0L));\n",
      "\n",
      "\t\t\n",
      "\t\tfloat xtt0, xim0;\n",
      "\t\tfloat xtt1, xim1;\n",
      "\n",
      "\tfor (i = 1; i <= samples; i++) {\n",
      "\t\t\t\tif (!(i & 1)) {\n",
      "\t\t\t\t\tn0 = n1;\n",
      "\t\t\t\t} else {\n",
      "\t\t\t\t\tn0 = \n",
      "\trng_kiss32(\n",
      "\t\tlrng_state + 0\n",
      "\t\t\t,\n",
      "\t\tlrng_state + 1\n",
      "\t\t\t,\n",
      "\t\tlrng_state + 2\n",
      "\t\t\t,\n",
      "\t\tlrng_state + 3\n",
      "\t)\n",
      ";\n",
      "\t\t\t\t\tn1 = \n",
      "\trng_kiss32(\n",
      "\t\tlrng_state + 0\n",
      "\t\t\t,\n",
      "\t\tlrng_state + 1\n",
      "\t\t\t,\n",
      "\t\tlrng_state + 2\n",
      "\t\t\t,\n",
      "\t\tlrng_state + 3\n",
      "\t)\n",
      ";\n",
      "\t\t\t\t\tbm_trans(n0, n1);\n",
      "\t\t\t\t}\n",
      "\n",
      "\t\tRHS(\n",
      "\t\t\t\txt0, x0,\n",
      "\t\t\t\txt1, x1,\n",
      "\t\t\tt\n",
      "\t\t);\n",
      "\n",
      "\t\t\txim0 = x0 + xt0 * dt\n",
      "\t\t\t;\n",
      "\t\t\txim1 = x1 + xt1 * dt\n",
      "\t\t\t\t\t\t+ ns*n0;\n",
      "\t\t\t;\n",
      "\t\tt = ct + i*dt;\n",
      "\n",
      "\t\tRHS(\n",
      "\t\t\t\txtt0, xim0,\n",
      "\t\t\t\txtt1, xim1,\n",
      "\t\t\tt\n",
      "\t\t);\n",
      "\n",
      "\t\t\tx0 += 0.5f*dt * (xt0 + xtt0)\n",
      "\t\t\t;\n",
      "\t\t\tx1 += 0.5f*dt * (xt1 + xtt1)\n",
      "\t\t\t\t\t\t+ ns*n0\n",
      "\t\t\t;\n",
      "\t}\n",
      "\n",
      "\n",
      "\t\tcx0[idx] = x0;\n",
      "\t\tcx1[idx] = x1;\n",
      "\n",
      "\t\trng_state[4 * idx + 0] = lrng_state[0];\n",
      "\t\trng_state[4 * idx + 1] = lrng_state[1];\n",
      "\t\trng_state[4 * idx + 2] = lrng_state[2];\n",
      "\t\trng_state[4 * idx + 3] = lrng_state[3];\n",
      "}\n",
      "\n",
      "\n"
     ]
    }
   ],
   "source": [
    "print sde.SRK2.get_source(sde_,sde_.parser.par_single,[],sde_.local_vars )"
   ]
  },
  {
   "cell_type": "code",
   "execution_count": null,
   "metadata": {
    "collapsed": true
   },
   "outputs": [],
   "source": [
    "\n"
   ]
  },
  {
   "cell_type": "code",
   "execution_count": 108,
   "metadata": {
    "collapsed": true
   },
   "outputs": [],
   "source": [
    "with open(\"/tmp/source.c\", 'w') as file:\n",
    "    print >> file, sde._convert_to_double(sde.SRK2.get_source(sde_,sde_.parser.par_single,[],sde_.local_vars ))"
   ]
  },
  {
   "cell_type": "code",
   "execution_count": 109,
   "metadata": {
    "collapsed": false
   },
   "outputs": [],
   "source": [
    "!indent  -linux -sob -l120 /tmp/source.c"
   ]
  },
  {
   "cell_type": "code",
   "execution_count": 1,
   "metadata": {
    "collapsed": true
   },
   "outputs": [],
   "source": [
    "import sympy\n",
    "import sys\n",
    "\n",
    "sympy.init_printing(pretty_print=True)"
   ]
  },
  {
   "cell_type": "code",
   "execution_count": null,
   "metadata": {
    "collapsed": false
   },
   "outputs": [],
   "source": []
  },
  {
   "cell_type": "code",
   "execution_count": 2,
   "metadata": {
    "collapsed": false
   },
   "outputs": [],
   "source": [
    "a = sympy.Symbol('a')"
   ]
  },
  {
   "cell_type": "code",
   "execution_count": 5,
   "metadata": {
    "collapsed": false
   },
   "outputs": [],
   "source": [
    "from sympy.parsing.sympy_parser import parse_expr\n",
    "expr = parse_expr(\"a+2*c+a\")\n"
   ]
  },
  {
   "cell_type": "code",
   "execution_count": 6,
   "metadata": {
    "collapsed": false
   },
   "outputs": [
    {
     "data": {
      "image/png": "[encoded data removed]",
      "text/latex": [
       "$$\\left\\{a, c\\right\\}$$"
      ],
      "text/plain": [
       "set([a, c])"
      ]
     },
     "execution_count": 6,
     "metadata": {},
     "output_type": "execute_result"
    }
   ],
   "source": [
    "expr.free_symbols"
   ]
  },
  {
   "cell_type": "code",
   "execution_count": 10,
   "metadata": {
    "collapsed": false
   },
   "outputs": [
    {
     "name": "stdout",
     "output_type": "stream",
     "text": [
      "(c, 139872886946304)\n",
      "(a, 139872886945584)\n"
     ]
    }
   ],
   "source": [
    "for symb in expr.free_symbols:\n",
    "    print(symb,id(symb))"
   ]
  },
  {
   "cell_type": "code",
   "execution_count": 9,
   "metadata": {
    "collapsed": false
   },
   "outputs": [
    {
     "data": {
      "image/png": "[encoded data removed]",
      "text/latex": [
       "$$139872886945584$$"
      ],
      "text/plain": [
       "139872886945584"
      ]
     },
     "execution_count": 9,
     "metadata": {},
     "output_type": "execute_result"
    }
   ],
   "source": [
    "id(a)"
   ]
  },
  {
   "cell_type": "code",
   "execution_count": 11,
   "metadata": {
    "collapsed": false
   },
   "outputs": [
    {
     "ename": "NameError",
     "evalue": "name 'c' is not defined",
     "output_type": "error",
     "traceback": [
      "\u001b[0;31m\u001b[0m",
      "\u001b[0;31mNameError\u001b[0mTraceback (most recent call last)",
      "\u001b[0;32m<ipython-input-11-2cd6ee2c70b0>\u001b[0m in \u001b[0;36m<module>\u001b[0;34m()\u001b[0m\n\u001b[0;32m----> 1\u001b[0;31m \u001b[0mc\u001b[0m\u001b[0;34m\u001b[0m\u001b[0m\n\u001b[0m",
      "\u001b[0;31mNameError\u001b[0m: name 'c' is not defined"
     ]
    }
   ],
   "source": [
    "c"
   ]
  },
  {
   "cell_type": "code",
   "execution_count": 12,
   "metadata": {
    "collapsed": true
   },
   "outputs": [],
   "source": [
    "c = sympy.Symbol('c')"
   ]
  },
  {
   "cell_type": "code",
   "execution_count": 13,
   "metadata": {
    "collapsed": false
   },
   "outputs": [
    {
     "data": {
      "image/png": "[encoded data removed]",
      "text/latex": [
       "$$139872886946304$$"
      ],
      "text/plain": [
       "139872886946304"
      ]
     },
     "execution_count": 13,
     "metadata": {},
     "output_type": "execute_result"
    }
   ],
   "source": [
    "id(c)"
   ]
  },
  {
   "cell_type": "code",
   "execution_count": 17,
   "metadata": {
    "collapsed": false
   },
   "outputs": [],
   "source": [
    "import copy\n",
    "c2 = copy.copy(c)"
   ]
  },
  {
   "cell_type": "code",
   "execution_count": 18,
   "metadata": {
    "collapsed": false
   },
   "outputs": [
    {
     "data": {
      "image/png": "[encoded data removed]",
      "text/latex": [
       "$$139872886946304$$"
      ],
      "text/plain": [
       "139872886946304"
      ]
     },
     "execution_count": 18,
     "metadata": {},
     "output_type": "execute_result"
    }
   ],
   "source": [
    "id(c2)"
   ]
  },
  {
   "cell_type": "code",
   "execution_count": 19,
   "metadata": {
    "collapsed": true
   },
   "outputs": [],
   "source": [
    "sympy.Symbol??\n"
   ]
  },
  {
   "cell_type": "code",
   "execution_count": null,
   "metadata": {
    "collapsed": true
   },
   "outputs": [],
   "source": []
  },
  {
   "cell_type": "code",
   "execution_count": 47,
   "metadata": {
    "collapsed": false
   },
   "outputs": [],
   "source": [
    "c_in_a_list = list(expr.free_symbols)[0]"
   ]
  },
  {
   "cell_type": "code",
   "execution_count": 48,
   "metadata": {
    "collapsed": false
   },
   "outputs": [
    {
     "data": {
      "image/png": "[encoded data removed]",
      "text/latex": [
       "$$c$$"
      ],
      "text/plain": [
       "c"
      ]
     },
     "execution_count": 48,
     "metadata": {},
     "output_type": "execute_result"
    }
   ],
   "source": [
    "c_in_a_list"
   ]
  },
  {
   "cell_type": "code",
   "execution_count": 49,
   "metadata": {
    "collapsed": false
   },
   "outputs": [
    {
     "data": {
      "text/plain": [
       "'c'"
      ]
     },
     "execution_count": 49,
     "metadata": {},
     "output_type": "execute_result"
    }
   ],
   "source": [
    "c_in_a_list.name"
   ]
  },
  {
   "cell_type": "code",
   "execution_count": 50,
   "metadata": {
    "collapsed": false
   },
   "outputs": [
    {
     "data": {
      "image/png": "[encoded data removed]",
      "text/latex": [
       "$$2 a + 1110$$"
      ],
      "text/plain": [
       "2⋅a + 1110"
      ]
     },
     "execution_count": 50,
     "metadata": {},
     "output_type": "execute_result"
    }
   ],
   "source": [
    "expr.subs({c_in_a_list:555})"
   ]
  },
  {
   "cell_type": "code",
   "execution_count": 51,
   "metadata": {
    "collapsed": false
   },
   "outputs": [
    {
     "data": {
      "image/png": "[encoded data removed]",
      "text/latex": [
       "$$140281985399456$$"
      ],
      "text/plain": [
       "140281985399456"
      ]
     },
     "execution_count": 51,
     "metadata": {},
     "output_type": "execute_result"
    }
   ],
   "source": [
    "id(c_in_a_list)"
   ]
  },
  {
   "cell_type": "code",
   "execution_count": 52,
   "metadata": {
    "collapsed": true
   },
   "outputs": [],
   "source": [
    "c = sympy.Symbol('c')"
   ]
  },
  {
   "cell_type": "code",
   "execution_count": 53,
   "metadata": {
    "collapsed": false
   },
   "outputs": [
    {
     "data": {
      "image/png": "[encoded data removed]",
      "text/latex": [
       "$$140281985399456$$"
      ],
      "text/plain": [
       "140281985399456"
      ]
     },
     "execution_count": 53,
     "metadata": {},
     "output_type": "execute_result"
    }
   ],
   "source": [
    "id(c)"
   ]
  },
  {
   "cell_type": "code",
   "execution_count": 54,
   "metadata": {
    "collapsed": false
   },
   "outputs": [
    {
     "data": {
      "image/png": "[encoded data removed]",
      "text/latex": [
       "$$140281985399456$$"
      ],
      "text/plain": [
       "140281985399456"
      ]
     },
     "execution_count": 54,
     "metadata": {},
     "output_type": "execute_result"
    }
   ],
   "source": [
    "id( sympy.Symbol('c') ) "
   ]
  },
  {
   "cell_type": "code",
   "execution_count": 78,
   "metadata": {
    "collapsed": false
   },
   "outputs": [
    {
     "name": "stdout",
     "output_type": "stream",
     "text": [
      "2 + 2\n"
     ]
    }
   ],
   "source": [
    "with sympy.evaluate(False):\n",
    "    aa = (a+a).subs({a:1})\n",
    "    print aa.subs({1:2})"
   ]
  },
  {
   "cell_type": "code",
   "execution_count": 94,
   "metadata": {
    "collapsed": false
   },
   "outputs": [
    {
     "data": {
      "image/png": "[encoded data removed]",
      "text/latex": [
       "$$2$$"
      ],
      "text/plain": [
       "2"
      ]
     },
     "execution_count": 94,
     "metadata": {},
     "output_type": "execute_result"
    }
   ],
   "source": [
    "sympy.evaluate(True)\n",
    "sympy.simplify(aa)"
   ]
  },
  {
   "cell_type": "code",
   "execution_count": 97,
   "metadata": {
    "collapsed": false
   },
   "outputs": [
    {
     "data": {
      "image/png": "[encoded data removed]",
      "text/latex": [
       "$$a + a$$"
      ],
      "text/plain": [
       "a + a"
      ]
     },
     "execution_count": 97,
     "metadata": {},
     "output_type": "execute_result"
    }
   ],
   "source": [
    "a+a"
   ]
  },
  {
   "cell_type": "code",
   "execution_count": null,
   "metadata": {
    "collapsed": true
   },
   "outputs": [],
   "source": []
  },
  {
   "cell_type": "code",
   "execution_count": 5,
   "metadata": {
    "collapsed": false
   },
   "outputs": [
    {
     "ename": "NameError",
     "evalue": "name 'c' is not defined",
     "output_type": "error",
     "traceback": [
      "\u001b[0;31m\u001b[0m",
      "\u001b[0;31mNameError\u001b[0mTraceback (most recent call last)",
      "\u001b[0;32m<ipython-input-5-8a18a9e671e8>\u001b[0m in \u001b[0;36m<module>\u001b[0;34m()\u001b[0m\n\u001b[0;32m----> 1\u001b[0;31m \u001b[0mexpr\u001b[0m\u001b[0;34m.\u001b[0m\u001b[0msubs\u001b[0m\u001b[0;34m(\u001b[0m\u001b[0;34m{\u001b[0m\u001b[0mc\u001b[0m\u001b[0;34m:\u001b[0m\u001b[0;36m666\u001b[0m\u001b[0;34m}\u001b[0m\u001b[0;34m)\u001b[0m\u001b[0;34m\u001b[0m\u001b[0m\n\u001b[0m",
      "\u001b[0;31mNameError\u001b[0m: name 'c' is not defined"
     ]
    }
   ],
   "source": [
    "expr.subs({c:666})"
   ]
  },
  {
   "cell_type": "code",
   "execution_count": 6,
   "metadata": {
    "collapsed": false
   },
   "outputs": [
    {
     "ename": "NameError",
     "evalue": "name 'symb' is not defined",
     "output_type": "error",
     "traceback": [
      "\u001b[0;31m\u001b[0m",
      "\u001b[0;31mNameError\u001b[0mTraceback (most recent call last)",
      "\u001b[0;32m<ipython-input-6-cfc9851dbe84>\u001b[0m in \u001b[0;36m<module>\u001b[0;34m()\u001b[0m\n\u001b[0;32m----> 1\u001b[0;31m \u001b[0msymb\u001b[0m\u001b[0;34m.\u001b[0m\u001b[0mname\u001b[0m\u001b[0;34m\u001b[0m\u001b[0m\n\u001b[0m",
      "\u001b[0;31mNameError\u001b[0m: name 'symb' is not defined"
     ]
    }
   ],
   "source": [
    "symb.name"
   ]
  },
  {
   "cell_type": "code",
   "execution_count": 7,
   "metadata": {
    "collapsed": false
   },
   "outputs": [],
   "source": [
    "for symb in expr.free_symbols:\n",
    "    setattr(sys.modules[__name__], symb.name, sympy.Symbol(symb.name))\n"
   ]
  },
  {
   "cell_type": "code",
   "execution_count": 8,
   "metadata": {
    "collapsed": false
   },
   "outputs": [
    {
     "data": {
      "image/png": "[encoded data removed]",
      "text/latex": [
       "$$c$$"
      ],
      "text/plain": [
       "c"
      ]
     },
     "execution_count": 8,
     "metadata": {},
     "output_type": "execute_result"
    }
   ],
   "source": [
    "c"
   ]
  },
  {
   "cell_type": "code",
   "execution_count": 9,
   "metadata": {
    "collapsed": false
   },
   "outputs": [
    {
     "data": {
      "image/png": "[encoded data removed]",
      "text/latex": [
       "$$2 a + 1110$$"
      ],
      "text/plain": [
       "2⋅a + 1110"
      ]
     },
     "execution_count": 9,
     "metadata": {},
     "output_type": "execute_result"
    }
   ],
   "source": [
    "expr.subs({c:555})"
   ]
  },
  {
   "cell_type": "code",
   "execution_count": 43,
   "metadata": {
    "collapsed": false
   },
   "outputs": [
    {
     "data": {
      "image/png": "[encoded data removed]",
      "text/latex": [
       "$$\\cos{\\left (a \\right )}$$"
      ],
      "text/plain": [
       "cos(a)"
      ]
     },
     "execution_count": 43,
     "metadata": {},
     "output_type": "execute_result"
    }
   ],
   "source": [
    "parse_expr(\"sin(a)\").diff(a)"
   ]
  },
  {
   "cell_type": "code",
   "execution_count": 53,
   "metadata": {
    "collapsed": false
   },
   "outputs": [
    {
     "data": {
      "image/png": "[encoded data removed]",
      "text/latex": [
       "$$\\frac{4 a^{3}}{a^{8} + 1}$$"
      ],
      "text/plain": [
       "    3 \n",
       " 4⋅a  \n",
       "──────\n",
       " 8    \n",
       "a  + 1"
      ]
     },
     "execution_count": 53,
     "metadata": {},
     "output_type": "execute_result"
    }
   ],
   "source": [
    "parse_expr(\"atan(a**4)\").diff(a)"
   ]
  },
  {
   "cell_type": "markdown",
   "metadata": {},
   "source": [
    "### CodePrinter extension"
   ]
  },
  {
   "cell_type": "code",
   "execution_count": 38,
   "metadata": {
    "collapsed": true
   },
   "outputs": [],
   "source": [
    "from sde import KernelCodePrinter"
   ]
  },
  {
   "cell_type": "code",
   "execution_count": 39,
   "metadata": {
    "collapsed": false
   },
   "outputs": [
    {
     "data": {
      "text/plain": [
       "'-2*a*a/(a*a + 1)*(a*a + 1) + 1.0/(a*a + 1)'"
      ]
     },
     "execution_count": 39,
     "metadata": {},
     "output_type": "execute_result"
    }
   ],
   "source": [
    "KernelCodePrinter().doprint((a/(a**2+1)).diff(a))"
   ]
  },
  {
   "cell_type": "code",
   "execution_count": 40,
   "metadata": {
    "collapsed": false
   },
   "outputs": [],
   "source": [
    "expr = sympy.sin(a)"
   ]
  },
  {
   "cell_type": "code",
   "execution_count": 41,
   "metadata": {
    "collapsed": false
   },
   "outputs": [
    {
     "data": {
      "text/plain": [
       "'sin'"
      ]
     },
     "execution_count": 41,
     "metadata": {},
     "output_type": "execute_result"
    }
   ],
   "source": [
    "expr.func.__name__"
   ]
  },
  {
   "cell_type": "code",
   "execution_count": 42,
   "metadata": {
    "collapsed": false
   },
   "outputs": [],
   "source": [
    "ble = sympy.Function(\"ble\")"
   ]
  },
  {
   "cell_type": "code",
   "execution_count": 43,
   "metadata": {
    "collapsed": false
   },
   "outputs": [
    {
     "data": {
      "text/plain": [
       "'// Not supported in C:\\n// ble\\nble(a)'"
      ]
     },
     "execution_count": 43,
     "metadata": {},
     "output_type": "execute_result"
    }
   ],
   "source": [
    "sde.KernelCodePrinter().doprint(ble(a))"
   ]
  },
  {
   "cell_type": "code",
   "execution_count": 44,
   "metadata": {
    "collapsed": false
   },
   "outputs": [
    {
     "data": {
      "text/plain": [
       "'ble'"
      ]
     },
     "execution_count": 44,
     "metadata": {},
     "output_type": "execute_result"
    }
   ],
   "source": [
    "ble(a).func.__name__"
   ]
  },
  {
   "cell_type": "code",
   "execution_count": null,
   "metadata": {
    "collapsed": true
   },
   "outputs": [],
   "source": []
  },
  {
   "cell_type": "code",
   "execution_count": 45,
   "metadata": {
    "collapsed": true
   },
   "outputs": [],
   "source": [
    "\n",
    "class MyKernelCodePrinter(KernelCodePrinter):\n",
    "\n",
    "    def _print_Function(self, expr):\n",
    "        if expr.func.__name__ == 'ble':\n",
    "            return 'ble_CUDAf(%s)' % self.stringify(expr.args, ', ')\n",
    "        else:\n",
    "            return super(KernelCodePrinter, self)._print_Function(expr)"
   ]
  },
  {
   "cell_type": "code",
   "execution_count": 46,
   "metadata": {
    "collapsed": false
   },
   "outputs": [
    {
     "data": {
      "text/plain": [
       "'ble_CUDAf(a)'"
      ]
     },
     "execution_count": 46,
     "metadata": {},
     "output_type": "execute_result"
    }
   ],
   "source": [
    " MyKernelCodePrinter().doprint(ble(a))"
   ]
  },
  {
   "cell_type": "code",
   "execution_count": null,
   "metadata": {
    "collapsed": true
   },
   "outputs": [],
   "source": []
  }
 ],
 "metadata": {
  "kernelspec": {
   "display_name": "Python 2",
   "language": "python",
   "name": "python2"
  },
  "language_info": {
   "codemirror_mode": {
    "name": "ipython",
    "version": 2
   },
   "file_extension": ".py",
   "mimetype": "text/x-python",
   "name": "python",
   "nbconvert_exporter": "python",
   "pygments_lexer": "ipython2",
   "version": "2.7.12"
  }
 },
 "nbformat": 4,
 "nbformat_minor": 1
}
